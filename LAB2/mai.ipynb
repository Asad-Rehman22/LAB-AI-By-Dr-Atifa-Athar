{
 "cells": [
  {
   "cell_type": "code",
   "execution_count": 3,
   "metadata": {},
   "outputs": [],
   "source": [
    "#Activity 1\n",
    "def calculate_grade(marks):\n",
    "    if marks < 50:\n",
    "         print (\"F\")\n",
    "    elif 50 <= marks <= 60:\n",
    "          print (\"E\")\n",
    "    elif 61 <= marks <= 70:\n",
    "        print (\"D\")\n",
    "    elif 71 <= marks <= 80:\n",
    "           print (\"C\")\n",
    "    elif 81 <= marks <= 90:\n",
    "           print (\"B\")\n",
    "    elif 91 <= marks <= 100:\n",
    "         print (\"A\")\n",
    "    else:\n",
    "        print (\"Invalid marks\")\n",
    "\n",
    "\n",
    "    marks = float(input(\"Enter the marks (1-100): \"))\n",
    "    \n",
    "    if 1 <= marks <= 100:\n",
    "        grade = calculate_grade(marks)\n",
    "        print(\"Grade:\", grade)\n",
    "    else:\n",
    "        print(\"Invalid input! Marks should be between 0 and 100.\")\n",
    "\n",
    "\n",
    "\n",
    "\n"
   ]
  },
  {
   "cell_type": "code",
   "execution_count": 11,
   "metadata": {},
   "outputs": [
    {
     "name": "stdout",
     "output_type": "stream",
     "text": [
      "Factorial of number is  25852016738884976640000\n"
     ]
    }
   ],
   "source": [
    "#Activity 2\n",
    "def calculate_factorial(n):\n",
    "    factorial = 1\n",
    "    if n < 0:\n",
    "        return \"Factorial is not defined for negative numbers.\"\n",
    "    elif n == 0:\n",
    "        return 1\n",
    "    else:\n",
    "        for i in range(1, n + 1):\n",
    "            factorial *= i\n",
    "        return factorial\n",
    "\n",
    "\n",
    "\n",
    "num = int(input(\"Enter a non-negative integer: \"))\n",
    "result = calculate_factorial(num)\n",
    "print(\"Factorial of number is \", result)\n",
    " \n"
   ]
  },
  {
   "cell_type": "code",
   "execution_count": 14,
   "metadata": {},
   "outputs": [
    {
     "name": "stdout",
     "output_type": "stream",
     "text": [
      "The entered list is \n",
      "['asad', '213', '45', 'vb', 'mango']\n"
     ]
    }
   ],
   "source": [
    "#Activity3\n",
    "myList=[]\n",
    "for i in range(5):\n",
    "    myList.append(input(\"Enter any valuse:\"))\n",
    "print(\"The entered list is \")\n",
    "print(myList)    \n",
    "        "
   ]
  },
  {
   "cell_type": "code",
   "execution_count": 17,
   "metadata": {},
   "outputs": [
    {
     "name": "stdout",
     "output_type": "stream",
     "text": [
      "Print Sum is  40\n",
      "[2, 2, 2, 2, 22]\n"
     ]
    }
   ],
   "source": [
    "#Activity4\n",
    "sum=0;\n",
    "myList=[]\n",
    "for i in range(5):\n",
    "    myList.append(int(input(\"Enter any valuse:\")))\n",
    "    sum+=int(i);\n",
    "\n",
    "for i in myList:\n",
    "     sum+=int(i);\n",
    "print(\"Print Sum is \",sum )\n",
    "print(myList)    \n"
   ]
  },
  {
   "cell_type": "code",
   "execution_count": 19,
   "metadata": {},
   "outputs": [
    {
     "name": "stdout",
     "output_type": "stream",
     "text": [
      "The sorted list is\n",
      "None\n",
      "The sorted list is\n",
      "None\n",
      "The sorted list is\n",
      "None\n",
      "The sorted list is\n",
      "None\n",
      "The sorted list is\n",
      "None\n"
     ]
    }
   ],
   "source": [
    "#Activtiy 5\n",
    "myList=[]\n",
    "for i in range(5):\n",
    "    myList.append(int(input(\"Enter any valuse:\")))\n",
    "for i in myList:\n",
    " print(\"The sorted list is\" )\n",
    " print(myList.sort() )\n"
   ]
  },
  {
   "cell_type": "code",
   "execution_count": 26,
   "metadata": {},
   "outputs": [
    {
     "name": "stdout",
     "output_type": "stream",
     "text": [
      "212 is not found in the list.\n"
     ]
    }
   ],
   "source": [
    "#Write a python list fromuser and find required element in that list\n",
    "\n",
    "input_string = input(\"Enter a list of elements separated by spaces: \")\n",
    "user_list = input_string.split()\n",
    "\n",
    "\n",
    "element_to_find = input(\"Enter the element you want to find in the list: \")\n",
    "\n",
    "\n",
    "if element_to_find in user_list:\n",
    "    print(f\"{element_to_find} is found in the list.\")\n",
    "else:\n",
    "    print(f\"{element_to_find} is not found in the list.\")\n"
   ]
  },
  {
   "cell_type": "code",
   "execution_count": 27,
   "metadata": {},
   "outputs": [
    {
     "name": "stdout",
     "output_type": "stream",
     "text": [
      "Hello, asssd! How are you today?\n"
     ]
    }
   ],
   "source": [
    "#write a function that takes person as and argument and returns the greeting message\n",
    "def greet_person(person_name):\n",
    "    greeting = f\"Hello, {person_name}! How are you today?\"\n",
    "    return greeting\n",
    "\n",
    "\n",
    "name = input(\"Enter a person's name: \")\n",
    "message = greet_person(name)\n",
    "print(message)\n",
    "\n",
    "\n"
   ]
  },
  {
   "cell_type": "code",
   "execution_count": 35,
   "metadata": {},
   "outputs": [
    {
     "name": "stdout",
     "output_type": "stream",
     "text": [
      "False\n",
      "True\n",
      "True\n",
      "False\n"
     ]
    }
   ],
   "source": [
    "#write a fuctionn inpython that recieves a string and return true if that string is palindrome otherwise false\n",
    "def is_palindrome(s):\n",
    "\n",
    "    s = s.lower()\n",
    "    \n",
    "    \n",
    "    return s == s[::-1]\n",
    "\n",
    "\n",
    "print(is_palindrome(\"asad\")) \n",
    "print(is_palindrome(\"dad\"))    \n",
    "print(is_palindrome(\"level\"))  \n",
    "print(is_palindrome(\"Word\"))  "
   ]
  },
  {
   "cell_type": "code",
   "execution_count": 47,
   "metadata": {},
   "outputs": [
    {
     "name": "stdout",
     "output_type": "stream",
     "text": [
      "The Resultant matrix is :  [[1, 2, 3], [4, 5, 6], [7, 8, 9]]\n"
     ]
    }
   ],
   "source": [
    "#Multilication of 3*3 matrix\n",
    "a = [[1,0,0],[0,1,0],[0,0,1] ]\n",
    "b= [[1,2,3],[4,5,6],[7,8,9]]\n",
    "result=[[0,0,0],[0,0,0],[0,0,0]]\n",
    "\n",
    "for i in range(len(a)):\n",
    "     for j in range(len(a[0])):\n",
    "          for k in range(len(b)):\n",
    "               result[i][j]+= a[i][k]*b[k][j]\n",
    "print(\"The Resultant matrix is : \", result)\n",
    "     \n",
    "\n"
   ]
  }
 ],
 "metadata": {
  "kernelspec": {
   "display_name": "base",
   "language": "python",
   "name": "python3"
  },
  "language_info": {
   "codemirror_mode": {
    "name": "ipython",
    "version": 3
   },
   "file_extension": ".py",
   "mimetype": "text/x-python",
   "name": "python",
   "nbconvert_exporter": "python",
   "pygments_lexer": "ipython3",
   "version": "3.11.4"
  },
  "orig_nbformat": 4
 },
 "nbformat": 4,
 "nbformat_minor": 2
}
